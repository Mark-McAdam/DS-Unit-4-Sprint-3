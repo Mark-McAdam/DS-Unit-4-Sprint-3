{
  "nbformat": 4,
  "nbformat_minor": 0,
  "metadata": {
    "accelerator": "GPU",
    "colab": {
      "name": "JC_Lecture_DS_431_RNN_and_LSTM.ipynb",
      "provenance": [],
      "collapsed_sections": []
    },
    "kernelspec": {
      "name": "python3",
      "display_name": "Python 3"
    }
  },
  "cells": [
    {
      "cell_type": "markdown",
      "metadata": {
        "colab_type": "text",
        "id": "Ldr0HZ193GKb"
      },
      "source": [
        "Lambda School Data Science\n",
        "\n",
        "*Unit 4, Sprint 3, Module 1*\n",
        "\n",
        "---\n"
      ]
    },
    {
      "cell_type": "markdown",
      "metadata": {
        "id": "jSsErpK3ZGS2",
        "colab_type": "text"
      },
      "source": [
        "# Recurrent Neural Networks (RNNs) and Long Short Term Memory (LSTM) (Prepare)\n",
        "\n",
        "<img src=\"https://media.giphy.com/media/l2JJu8U8SoHhQEnoQ/giphy.gif\" width=480 height=356>\n",
        "<br></br>\n",
        "<br></br>"
      ]
    },
    {
      "cell_type": "markdown",
      "metadata": {
        "id": "vA6zSVI-ZGS4",
        "colab_type": "text"
      },
      "source": [
        "## Learning Objectives\n",
        "- <a href=\"#p1\">Part 1: </a>Describe Neural Networks used for modeling sequences\n",
        "- <a href=\"#p2\">Part 2: </a>Apply a LSTM to a text generation problem using Keras"
      ]
    },
    {
      "cell_type": "markdown",
      "metadata": {
        "colab_type": "text",
        "id": "_IizNKWLomoA"
      },
      "source": [
        "## Overview\n",
        "\n",
        "> \"Yesterday's just a memory - tomorrow is never what it's supposed to be.\" -- Bob Dylan\n",
        "\n",
        "Wish you could save [Time In A Bottle](https://www.youtube.com/watch?v=AnWWj6xOleY)? With statistics you can do the next best thing - understand how data varies over time (or any sequential order), and use the order/time dimension predictively.\n",
        "\n",
        "A sequence is just any enumerated collection - order counts, and repetition is allowed. Python lists are a good elemental example - `[1, 2, 2, -1]` is a valid list, and is different from `[1, 2, -1, 2]`. The data structures we tend to use (e.g. NumPy arrays) are often built on this fundamental structure.\n",
        "\n",
        "A time series is data where you have not just the order but some actual continuous marker for where they lie \"in time\" - this could be a date, a timestamp, [Unix time](https://en.wikipedia.org/wiki/Unix_time), or something else. All time series are also sequences, and for some techniques you may just consider their order and not \"how far apart\" the entries are (if you have particularly consistent data collected at regular intervals it may not matter)."
      ]
    },
    {
      "cell_type": "markdown",
      "metadata": {
        "colab_type": "text",
        "id": "44QZgrPUe3-Y"
      },
      "source": [
        "# Neural Networks for Sequences (Learn)"
      ]
    },
    {
      "cell_type": "markdown",
      "metadata": {
        "colab_type": "text",
        "id": "r6v3D8uoZGS_"
      },
      "source": [
        "## Overview\n",
        "\n",
        "There's plenty more to \"traditional\" time series, but the latest and greatest technique for sequence data is recurrent neural networks. A recurrence relation in math is an equation that uses recursion to define a sequence - a famous example is the Fibonacci numbers:\n",
        "\n",
        "$F_n = F_{n-1} + F_{n-2}$\n",
        "\n",
        "For formal math you also need a base case $F_0=1, F_1=1$, and then the rest builds from there. But for neural networks what we're really talking about are loops:\n",
        "\n",
        "![Recurrent neural network](https://upload.wikimedia.org/wikipedia/commons/b/b5/Recurrent_neural_network_unfold.svg)\n",
        "\n",
        "The hidden layers have edges (output) going back to their own input - this loop means that for any time `t` the training is at least partly based on the output from time `t-1`. The entire network is being represented on the left, and you can unfold the network explicitly to see how it behaves at any given `t`.\n",
        "\n",
        "Different units can have this \"loop\", but a particularly successful one is the long short-term memory unit (LSTM):\n",
        "\n",
        "![Long short-term memory unit](https://upload.wikimedia.org/wikipedia/commons/thumb/6/63/Long_Short-Term_Memory.svg/1024px-Long_Short-Term_Memory.svg.png)\n",
        "\n",
        "There's a lot going on here - in a nutshell, the calculus still works out and backpropagation can still be implemented. The advantage (ane namesake) of LSTM is that it can generally put more weight on recent (short-term) events while not completely losing older (long-term) information.\n",
        "\n",
        "After enough iterations, a typical neural network will start calculating prior gradients that are so small they effectively become zero - this is the [vanishing gradient problem](https://en.wikipedia.org/wiki/Vanishing_gradient_problem), and is what RNN with LSTM addresses. Pay special attention to the $c_t$ parameters and how they pass through the unit to get an intuition for how this problem is solved.\n",
        "\n",
        "So why are these cool? One particularly compelling application is actually not time series but language modeling - language is inherently ordered data (letters/words go one after another, and the order *matters*). [The Unreasonable Effectiveness of Recurrent Neural Networks](https://karpathy.github.io/2015/05/21/rnn-effectiveness/) is a famous and worth reading blog post on this topic.\n",
        "\n",
        "For our purposes, let's use TensorFlow and Keras to train RNNs with natural language. Resources:\n",
        "\n",
        "- https://github.com/keras-team/keras/blob/master/examples/imdb_lstm.py\n",
        "- https://keras.io/layers/recurrent/#lstm\n",
        "- http://adventuresinmachinelearning.com/keras-lstm-tutorial/\n",
        "\n",
        "Note that `tensorflow.contrib` [also has an implementation of RNN/LSTM](https://www.tensorflow.org/tutorials/sequences/recurrent)."
      ]
    },
    {
      "cell_type": "markdown",
      "metadata": {
        "colab_type": "text",
        "id": "eWrQllf8WEd-"
      },
      "source": [
        "## Follow Along\n",
        "\n",
        "Sequences come in many shapes and forms from stock prices to text. We'll focus on text, because modeling text as a sequence is a strength of Neural Networks. Let's start with a simple classification task using a TensorFlow tutorial. "
      ]
    },
    {
      "cell_type": "markdown",
      "metadata": {
        "colab_type": "text",
        "id": "Evqf0s1JZGTB"
      },
      "source": [
        "### RNN/LSTM Sentiment Classification with Keras"
      ]
    },
    {
      "cell_type": "code",
      "metadata": {
        "colab_type": "code",
        "id": "Ti23G0gRe3kr",
        "outputId": "f83f8f44-10f9-4e15-bc4f-61d706b75372",
        "colab": {
          "base_uri": "https://localhost:8080/",
          "height": 68
        }
      },
      "source": [
        "'''\n",
        "#Trains an LSTM model on the IMDB sentiment classification task.\n",
        "The dataset is actually too small for LSTM to be of any advantage\n",
        "compared to simpler, much faster methods such as TF-IDF + LogReg.\n",
        "**Notes**\n",
        "- RNNs are tricky. Choice of batch size is important,\n",
        "choice of loss and optimizer is critical, etc.\n",
        "Some configurations won't converge.\n",
        "- LSTM loss decrease patterns during training can be quite different\n",
        "from what you see with CNNs/MLPs/etc.\n",
        "'''\n",
        "from __future__ import print_function\n",
        "\n",
        "from tensorflow.keras.preprocessing import sequence\n",
        "from tensorflow.keras.models import Sequential\n",
        "from tensorflow.keras.layers import Dense, Embedding\n",
        "from tensorflow.keras.layers import LSTM\n",
        "from tensorflow.keras.datasets import imdb\n",
        "\n",
        "max_features = 20000\n",
        "\n",
        "# cut texts after this number of words (among top max_features most common words)\n",
        "maxlen = 80\n",
        "batch_size = 32\n",
        "\n",
        "print('Loading data...')\n",
        "(x_train, y_train), (x_test, y_test) = imdb.load_data(num_words=max_features)\n",
        "print(len(x_train), 'train sequences')\n",
        "print(len(x_test), 'test sequences')"
      ],
      "execution_count": 1,
      "outputs": [
        {
          "output_type": "stream",
          "text": [
            "Loading data...\n",
            "25000 train sequences\n",
            "25000 test sequences\n"
          ],
          "name": "stdout"
        }
      ]
    },
    {
      "cell_type": "code",
      "metadata": {
        "id": "xiBzgUjLZGTI",
        "colab_type": "code",
        "colab": {}
      },
      "source": [
        "# x_train[0]"
      ],
      "execution_count": 0,
      "outputs": []
    },
    {
      "cell_type": "code",
      "metadata": {
        "id": "2IXCbjxhZGTM",
        "colab_type": "code",
        "outputId": "5f054003-9fe5-4098-8604-9c4c170e92b7",
        "colab": {
          "base_uri": "https://localhost:8080/",
          "height": 68
        }
      },
      "source": [
        "print('Pad Sequences (samples x time)')\n",
        "x_train = sequence.pad_sequences(x_train, maxlen=maxlen)\n",
        "x_test = sequence.pad_sequences(x_test, maxlen=maxlen)\n",
        "print('x_train shape: ', x_train.shape)\n",
        "print('x_test shape: ', x_test.shape)"
      ],
      "execution_count": 2,
      "outputs": [
        {
          "output_type": "stream",
          "text": [
            "Pad Sequences (samples x time)\n",
            "x_train shape:  (25000, 80)\n",
            "x_test shape:  (25000, 80)\n"
          ],
          "name": "stdout"
        }
      ]
    },
    {
      "cell_type": "code",
      "metadata": {
        "id": "OHeHwdreZGTP",
        "colab_type": "code",
        "colab": {}
      },
      "source": [
        "# x_train[0]"
      ],
      "execution_count": 0,
      "outputs": []
    },
    {
      "cell_type": "code",
      "metadata": {
        "id": "NCUjM8RUZGTU",
        "colab_type": "code",
        "outputId": "a598dd9f-7122-4429-a50c-dd5b49aa8026",
        "colab": {
          "base_uri": "https://localhost:8080/",
          "height": 292
        }
      },
      "source": [
        "model = Sequential()\n",
        "\n",
        "model.add(Embedding(max_features, 128))\n",
        "model.add(LSTM(128, dropout=0.2, recurrent_dropout=0.2))\n",
        "model.add(Dense(1, activation='sigmoid'))\n",
        "\n",
        "model.compile(loss='binary_crossentropy',\n",
        "              optimizer='adam', \n",
        "              metrics=['accuracy'])\n",
        "\n",
        "model.summary()"
      ],
      "execution_count": 3,
      "outputs": [
        {
          "output_type": "stream",
          "text": [
            "WARNING:tensorflow:Layer lstm will not use cuDNN kernel since it doesn't meet the cuDNN kernel criteria. It will use generic GPU kernel as fallback when running on GPU\n",
            "Model: \"sequential\"\n",
            "_________________________________________________________________\n",
            "Layer (type)                 Output Shape              Param #   \n",
            "=================================================================\n",
            "embedding (Embedding)        (None, None, 128)         2560000   \n",
            "_________________________________________________________________\n",
            "lstm (LSTM)                  (None, 128)               131584    \n",
            "_________________________________________________________________\n",
            "dense (Dense)                (None, 1)                 129       \n",
            "=================================================================\n",
            "Total params: 2,691,713\n",
            "Trainable params: 2,691,713\n",
            "Non-trainable params: 0\n",
            "_________________________________________________________________\n"
          ],
          "name": "stdout"
        }
      ]
    },
    {
      "cell_type": "code",
      "metadata": {
        "id": "rxVyO_WoZGTY",
        "colab_type": "code",
        "outputId": "a5cdc911-f505-42ff-899e-1a786dbf1445",
        "colab": {
          "base_uri": "https://localhost:8080/",
          "height": 207
        }
      },
      "source": [
        "unicorns = model.fit(x_train, y_train,\n",
        "          batch_size=batch_size, \n",
        "          epochs=5, \n",
        "          validation_data=(x_test,y_test))"
      ],
      "execution_count": 4,
      "outputs": [
        {
          "output_type": "stream",
          "text": [
            "Epoch 1/5\n",
            "782/782 [==============================] - 393s 503ms/step - loss: 0.4355 - accuracy: 0.7954 - val_loss: 0.3739 - val_accuracy: 0.8371\n",
            "Epoch 2/5\n",
            "782/782 [==============================] - 391s 500ms/step - loss: 0.2574 - accuracy: 0.8966 - val_loss: 0.3826 - val_accuracy: 0.8260\n",
            "Epoch 3/5\n",
            "782/782 [==============================] - 381s 488ms/step - loss: 0.1676 - accuracy: 0.9362 - val_loss: 0.4654 - val_accuracy: 0.8296\n",
            "Epoch 4/5\n",
            "782/782 [==============================] - 386s 494ms/step - loss: 0.1097 - accuracy: 0.9600 - val_loss: 0.5594 - val_accuracy: 0.8257\n",
            "Epoch 5/5\n",
            "782/782 [==============================] - 374s 478ms/step - loss: 0.0729 - accuracy: 0.9748 - val_loss: 0.7345 - val_accuracy: 0.8188\n"
          ],
          "name": "stdout"
        }
      ]
    },
    {
      "cell_type": "code",
      "metadata": {
        "id": "5SIPulZGZGTc",
        "colab_type": "code",
        "outputId": "d4abd13f-c1b2-42de-b396-42dd81e9b304",
        "colab": {
          "base_uri": "https://localhost:8080/",
          "height": 295
        }
      },
      "source": [
        "import matplotlib.pyplot as plt\n",
        "\n",
        "# Plot training & validation loss values\n",
        "plt.plot(unicorns.history['loss'])\n",
        "plt.plot(unicorns.history['val_loss'])\n",
        "plt.title('Model loss')\n",
        "plt.ylabel('Loss')\n",
        "plt.xlabel('Epoch')\n",
        "plt.legend(['Train', 'Test'], loc='upper left')\n",
        "plt.show();"
      ],
      "execution_count": 5,
      "outputs": [
        {
          "output_type": "display_data",
          "data": {
            "image/png": "[encoded data removed]",
            "text/plain": [
              "<Figure size 432x288 with 1 Axes>"
            ]
          },
          "metadata": {
            "tags": [],
            "needs_background": "light"
          }
        }
      ]
    },
    {
      "cell_type": "markdown",
      "metadata": {
        "id": "9dBd5V47ZGTf",
        "colab_type": "text"
      },
      "source": [
        "## Challenge\n",
        "\n",
        "You will be expected to use an Keras LSTM for a classicification task on the *Sprint Challenge*. "
      ]
    },
    {
      "cell_type": "markdown",
      "metadata": {
        "colab_type": "text",
        "id": "7pETWPIe362y"
      },
      "source": [
        "# LSTM Text generation with Keras (Learn)"
      ]
    },
    {
      "cell_type": "markdown",
      "metadata": {
        "colab_type": "text",
        "id": "CTYilIS5ZGTg"
      },
      "source": [
        "## Overview\n",
        "\n",
        "What else can we do with LSTMs? Since we're analyzing the *sequence*, we can do more than classify - we can *generate* text. I'ved pulled some news stories using [newspaper](https://github.com/codelucas/newspaper/).\n",
        "\n",
        "This example is drawn from the Keras [documentation](https://keras.io/examples/lstm_text_generation/)."
      ]
    },
    {
      "cell_type": "code",
      "metadata": {
        "id": "onWHakEBZGTh",
        "colab_type": "code",
        "colab": {}
      },
      "source": [
        "from tensorflow.keras.callbacks import LambdaCallback, EarlyStopping\n",
        "from tensorflow.keras.models import Sequential\n",
        "from tensorflow.keras.layers import Dense, LSTM\n",
        "from tensorflow.keras.optimizers import RMSprop\n",
        "\n",
        "import numpy as np\n",
        "import random\n",
        "import sys\n",
        "import os\n",
        "\n",
        "import pandas as pd"
      ],
      "execution_count": 0,
      "outputs": []
    },
    {
      "cell_type": "code",
      "metadata": {
        "id": "3g5bq9HxZGTl",
        "colab_type": "code",
        "colab": {}
      },
      "source": [
        "data = pd.read_json(\"https://raw.githubusercontent.com/LambdaSchool/DS-Unit-4-Sprint-3-Deep-Learning/master/module1-rnn-and-lstm/wp_articles.json\")"
      ],
      "execution_count": 0,
      "outputs": []
    },
    {
      "cell_type": "code",
      "metadata": {
        "id": "-DI23NAznInw",
        "colab_type": "code",
        "colab": {}
      },
      "source": [
        "data = data['article'].tolist()"
      ],
      "execution_count": 0,
      "outputs": []
    },
    {
      "cell_type": "code",
      "metadata": {
        "id": "tWlPeWMsZGTp",
        "colab_type": "code",
        "colab": {}
      },
      "source": [
        "# Read in Data\n",
        "\n",
        "data = []\n",
        "\n",
        "for file in data_files:\n",
        "    if file[-3:] == 'txt':\n",
        "        with open(f'./articles/{file}', 'r', encoding='utf-8') as f:\n",
        "            data.append(f.read())"
      ],
      "execution_count": 0,
      "outputs": []
    },
    {
      "cell_type": "code",
      "metadata": {
        "id": "95a1GYhtZGTt",
        "colab_type": "code",
        "outputId": "50e1ff51-5afa-4586-e5f6-383b7e9bc6ea",
        "colab": {}
      },
      "source": [
        "len(data)"
      ],
      "execution_count": 0,
      "outputs": [
        {
          "output_type": "execute_result",
          "data": {
            "text/plain": [
              "136"
            ]
          },
          "metadata": {
            "tags": []
          },
          "execution_count": 19
        }
      ]
    },
    {
      "cell_type": "code",
      "metadata": {
        "id": "mILzOGdBZGTy",
        "colab_type": "code",
        "outputId": "5cec0c77-2a18-458f-94df-d6cfacb26138",
        "colab": {}
      },
      "source": [
        "data[-1]"
      ],
      "execution_count": 0,
      "outputs": [
        {
          "output_type": "execute_result",
          "data": {
            "text/plain": [
              "'Here are some recent headlines from schools around the country: In Indiana, officials played a segment of a 911 call of a teacher in a panic during the Columbine High School shooting to students. In Ohio, officers fired blank shots during an active-shooter drill. In South Carolina, an officer dressed in black posed as an intruder on an unannounced drill. In Michigan, a school is spending $48 million on a renovation that includes curved hallways and hiding niches, in hopes of protecting students from a mass shooting. In Florida, a police officer arrested two 6-year-old students for misdemeanor battery. In Colorado, teachers received buckets and kitty litter for students to use as toilets in case of a prolonged school lockdown.\\n\\nMass shootings, meaning incidents with at least two deaths, in schools are horrifying. But it is highly unlikely that a child would ever witness one. Research indicates that some security measures brought in to make schools safer — like realistic shooter trainings — may be causing children more harm than good.\\n\\nIt is 10 times more likely that a student will die on the way to school.\\n\\nOur chances of dying in a fire are also much greater — 1 in 1,500. But we don’t overreact.\\n\\nMore children have died from lightning strikes than from mass shootings in schools in the past 20 years. Still, we don’t obsess about them.\\n\\nExactly how common are school shootings?\\n\\nIn the two decades since Columbine, there have been 10 mass shootings in schools according to a recent analysis by James Alan Fox, a professor of criminology at Northeastern University who has been studying school violence for several decades. In total, 81 people have been killed, 64 of them students. That’s an average of four deaths per year, three of them students.\\n\\nEven one death is too many. But for perspective, 729 children committed suicide with a firearm in 2017, and 863 were victims of homicides by guns that year.\\n\\nSchool-age children killed by guns 729 suicides in 2017 863 homicides Average killed in school mass shootings each year since 1999 Sources: Centers for Disease Control and Prevention; average students killed since 1999 by James Alan Fox, Northeastern University. School-age children killed by guns 729 suicides in 2017 863 homicides Average killed in school mass shootings each year since 1999 Sources: Centers for Disease Control and Prevention; average students killed since 1999 by James Alan Fox, Northeastern University. School-age children killed by guns 729 suicides in 2017 863 homicides in 2017 Average killed in school mass shootings each year since 1999 Sources: Centers for Disease Control and Prevention; average students killed since 1999 by James Alan Fox, Northeastern University.\\n\\nNearly every public school in the country now conducts lockdown drills, and even the youngest students participate (last year, one school adapted a lullaby to prepare kindergartners). But very few studies have looked into the efficiency of these drills. One of them concluded that the practice can be helpful to teach students basic safety procedures. But to the author of the study, Jaclyn Schildkraut, an associate professor at the State University of New York at Oswego, there is no point in dramatizing the drills. “All that causes is fear,” she said.\\n\\nRestaurants have 10 times as many homicides as schools. Why do we want to arm teachers and not wait staffs?\\n\\n“There’s a misunderstanding in where the dangers are,” said Dewey G. Cornell, a psychologist and professor at the University of Virginia. “Kids are at far greater danger going to and from school, than they are in the classroom,” he said. “School counseling, academic support, that’s gonna do far more to keep our communities safe.”\\n\\nUnlike the United States, the other wealthy countries in the Group of Seven don’t do lockdown drills and rarely have school shootings. What is the United States doing that is so different from them?\\n\\nGun deaths per 100,000 12 United States 10 8 6 4 Other G7 countries 2 0 25 50 75 100 Guns per 100 people Sources: Institute for Health Metrics and Evaluation, Global Burden of Disease Study 2016; Small Arms Survey, 2017. Gun deaths per 100,000 12 United States 10 8 6 4 Other G7 countries 2 0 25 50 75 100 Guns per 100 people Sources: Institute for Health Metrics and Evaluation, Global Burden of Disease Study 2016; Small Arms Survey, 2017. Gun deaths per 100,000 12 United States 10 8 6 4 Other G7 countries 2 0 25 50 75 100 Guns per 100 people Sources: Institute for Health Metrics and Evaluation, Global Burden of Disease Study 2016; Small Arms Survey, 2017.\\n\\nMany researchers think easy access to guns is an important part of the problem. “Violence in schools is just a small part of the larger problem of gun violence in our society,” Cornell wrote in a statement about prevention of violence in schools and communities.\\n\\nMisguided safety measures, such as dramatized lockdown drills, may give us the impression that we are protecting children, when, in fact, we are handing them a burden that adults are failing to address.\\n\\nRead more:\\n\\n‘What if someone was shooting?’\\n\\nThey grew up practicing lockdown drills. Now they’re steering the conversation on gun violence.\\n\\nSchool shootings are extraordinarily rare. Why is fear of them driving policy?\\n\\nPutting more cops in schools won’t make schools safer, and it will likely inflict a lot of harm'"
            ]
          },
          "metadata": {
            "tags": []
          },
          "execution_count": 20
        }
      ]
    },
    {
      "cell_type": "code",
      "metadata": {
        "id": "ba2Zf3hvZGT3",
        "colab_type": "code",
        "colab": {}
      },
      "source": [
        "# Encode Data as Chars\n",
        "\n",
        "# Gather all text \n",
        "# Why? 1. See all possible characters 2. For training / splitting later\n",
        "text = \" \".join(data)\n",
        "\n",
        "# Unique Characters\n",
        "chars = list(set(text))\n",
        "\n",
        "# Lookup Tables\n",
        "char_int = {c:i for i, c in enumerate(chars)} \n",
        "int_char = {i:c for i, c in enumerate(chars)} "
      ],
      "execution_count": 0,
      "outputs": []
    },
    {
      "cell_type": "code",
      "metadata": {
        "id": "hi9x01lJZGT6",
        "colab_type": "code",
        "outputId": "09aad17a-00db-4d95-849c-cc6e320eb768",
        "colab": {
          "base_uri": "https://localhost:8080/",
          "height": 34
        }
      },
      "source": [
        "len(chars)"
      ],
      "execution_count": 0,
      "outputs": [
        {
          "output_type": "execute_result",
          "data": {
            "text/plain": [
              "121"
            ]
          },
          "metadata": {
            "tags": []
          },
          "execution_count": 22
        }
      ]
    },
    {
      "cell_type": "code",
      "metadata": {
        "id": "qtLGmWBtoESA",
        "colab_type": "code",
        "outputId": "244146b9-c0a2-4aec-e7ac-4305327209f1",
        "colab": {
          "base_uri": "https://localhost:8080/",
          "height": 1000
        }
      },
      "source": [
        "chars"
      ],
      "execution_count": 0,
      "outputs": [
        {
          "output_type": "execute_result",
          "data": {
            "text/plain": [
              "['J',\n",
              " '_',\n",
              " 'G',\n",
              " '\"',\n",
              " 'c',\n",
              " '⅔',\n",
              " 'Q',\n",
              " 'k',\n",
              " 'á',\n",
              " '!',\n",
              " 'D',\n",
              " '$',\n",
              " '🤔',\n",
              " '2',\n",
              " '\\u2066',\n",
              " 'T',\n",
              " '…',\n",
              " 'C',\n",
              " 'Y',\n",
              " ',',\n",
              " '•',\n",
              " \"'\",\n",
              " 'F',\n",
              " 'h',\n",
              " '9',\n",
              " 'R',\n",
              " '0',\n",
              " '|',\n",
              " '%',\n",
              " 'P',\n",
              " 'ö',\n",
              " '-',\n",
              " 'H',\n",
              " '\\xad',\n",
              " '&',\n",
              " 'j',\n",
              " '”',\n",
              " 'y',\n",
              " '–',\n",
              " ')',\n",
              " 'W',\n",
              " '🗣',\n",
              " 'm',\n",
              " 'Z',\n",
              " 'L',\n",
              " 'a',\n",
              " 'X',\n",
              " '+',\n",
              " 'U',\n",
              " 'N',\n",
              " '👻',\n",
              " 'ﬂ',\n",
              " '{',\n",
              " ':',\n",
              " '\\u2069',\n",
              " 'o',\n",
              " '3',\n",
              " 'O',\n",
              " '“',\n",
              " 'n',\n",
              " 'q',\n",
              " 'é',\n",
              " '#',\n",
              " 'u',\n",
              " 'g',\n",
              " '?',\n",
              " '×',\n",
              " 'r',\n",
              " 'í',\n",
              " '―',\n",
              " 'K',\n",
              " '\\n',\n",
              " '©',\n",
              " 'b',\n",
              " '@',\n",
              " 'v',\n",
              " 'ã',\n",
              " '.',\n",
              " '7',\n",
              " '⅓',\n",
              " 'p',\n",
              " '(',\n",
              " 'e',\n",
              " '1',\n",
              " 'E',\n",
              " '½',\n",
              " 'f',\n",
              " 'M',\n",
              " '6',\n",
              " 'd',\n",
              " '4',\n",
              " 'ñ',\n",
              " 'ó',\n",
              " 'ê',\n",
              " '‘',\n",
              " 'I',\n",
              " 't',\n",
              " '—',\n",
              " ' ',\n",
              " '5',\n",
              " 'z',\n",
              " 'A',\n",
              " '*',\n",
              " '[',\n",
              " 'w',\n",
              " ';',\n",
              " 's',\n",
              " '’',\n",
              " 'l',\n",
              " ']',\n",
              " 'V',\n",
              " 'S',\n",
              " 'x',\n",
              " '·',\n",
              " '8',\n",
              " 'i',\n",
              " 'B',\n",
              " '●',\n",
              " '⭐',\n",
              " 'è',\n",
              " '/']"
            ]
          },
          "metadata": {
            "tags": []
          },
          "execution_count": 23
        }
      ]
    },
    {
      "cell_type": "code",
      "metadata": {
        "id": "FRddMJtXZGT9",
        "colab_type": "code",
        "outputId": "f05aaaa8-418a-4246-b1e5-242c6dee6933",
        "colab": {
          "base_uri": "https://localhost:8080/",
          "height": 34
        }
      },
      "source": [
        "# Create the sequence data\n",
        "\n",
        "maxlen = 40\n",
        "step = 5\n",
        "\n",
        "encoded = [char_int[c] for c in text]\n",
        "\n",
        "sequences = [] # Each element is 40 chars long\n",
        "next_char = [] # One element for each sequence\n",
        "\n",
        "for i in range(0, len(encoded) - maxlen, step):\n",
        "    \n",
        "    sequences.append(encoded[i : i + maxlen])\n",
        "    next_char.append(encoded[i + maxlen])\n",
        "    \n",
        "print('sequences: ', len(sequences))"
      ],
      "execution_count": 0,
      "outputs": [
        {
          "output_type": "stream",
          "text": [
            "sequences:  178374\n"
          ],
          "name": "stdout"
        }
      ]
    },
    {
      "cell_type": "code",
      "metadata": {
        "id": "BwUB69BsZGUB",
        "colab_type": "code",
        "outputId": "7e6ad56d-6987-4f35-fdc0-34055e5652f4",
        "colab": {
          "base_uri": "https://localhost:8080/",
          "height": 717
        }
      },
      "source": [
        "sequences[0]"
      ],
      "execution_count": 0,
      "outputs": [
        {
          "output_type": "execute_result",
          "data": {
            "text/plain": [
              "[17,\n",
              " 55,\n",
              " 59,\n",
              " 96,\n",
              " 67,\n",
              " 115,\n",
              " 73,\n",
              " 63,\n",
              " 96,\n",
              " 115,\n",
              " 59,\n",
              " 64,\n",
              " 98,\n",
              " 4,\n",
              " 55,\n",
              " 108,\n",
              " 63,\n",
              " 42,\n",
              " 59,\n",
              " 115,\n",
              " 106,\n",
              " 96,\n",
              " 71,\n",
              " 71,\n",
              " 15,\n",
              " 23,\n",
              " 82,\n",
              " 98,\n",
              " 32,\n",
              " 55,\n",
              " 63,\n",
              " 106,\n",
              " 82,\n",
              " 98,\n",
              " 115,\n",
              " 106,\n",
              " 98,\n",
              " 55,\n",
              " 59,\n",
              " 98]"
            ]
          },
          "metadata": {
            "tags": []
          },
          "execution_count": 25
        }
      ]
    },
    {
      "cell_type": "code",
      "metadata": {
        "id": "iS7gWa88ZGUF",
        "colab_type": "code",
        "colab": {}
      },
      "source": [
        "# Create x & y\n",
        "\n",
        "x = np.zeros((len(sequences), maxlen, len(chars)), dtype=np.bool)\n",
        "y = np.zeros((len(sequences),len(chars)), dtype=np.bool)\n",
        "\n",
        "for i, sequence in enumerate(sequences):\n",
        "    for t, char in enumerate(sequence):\n",
        "        x[i,t,char] = 1\n",
        "        \n",
        "    y[i, next_char[i]] = 1\n"
      ],
      "execution_count": 0,
      "outputs": []
    },
    {
      "cell_type": "code",
      "metadata": {
        "id": "Y9h9tGMsZGUJ",
        "colab_type": "code",
        "outputId": "1ce9f4cd-197b-44ca-c19a-bd9dfd42acda",
        "colab": {
          "base_uri": "https://localhost:8080/",
          "height": 34
        }
      },
      "source": [
        "x.shape"
      ],
      "execution_count": 0,
      "outputs": [
        {
          "output_type": "execute_result",
          "data": {
            "text/plain": [
              "(178374, 40, 121)"
            ]
          },
          "metadata": {
            "tags": []
          },
          "execution_count": 28
        }
      ]
    },
    {
      "cell_type": "code",
      "metadata": {
        "id": "vqoBqHqLZGUL",
        "colab_type": "code",
        "outputId": "49c11136-98e7-4dd9-ff5c-213f6e045172",
        "colab": {
          "base_uri": "https://localhost:8080/",
          "height": 34
        }
      },
      "source": [
        "y.shape"
      ],
      "execution_count": 0,
      "outputs": [
        {
          "output_type": "execute_result",
          "data": {
            "text/plain": [
              "(178374, 121)"
            ]
          },
          "metadata": {
            "tags": []
          },
          "execution_count": 29
        }
      ]
    },
    {
      "cell_type": "code",
      "metadata": {
        "id": "wVMkWiz5rnLs",
        "colab_type": "code",
        "outputId": "752c3d43-cb4d-4046-b4d1-05973d14f93b",
        "colab": {
          "base_uri": "https://localhost:8080/",
          "height": 262
        }
      },
      "source": [
        "x[0][0]"
      ],
      "execution_count": 0,
      "outputs": [
        {
          "output_type": "execute_result",
          "data": {
            "text/plain": [
              "array([False, False, False, False, False, False, False, False, False,\n",
              "       False, False, False, False, False, False, False, False,  True,\n",
              "       False, False, False, False, False, False, False, False, False,\n",
              "       False, False, False, False, False, False, False, False, False,\n",
              "       False, False, False, False, False, False, False, False, False,\n",
              "       False, False, False, False, False, False, False, False, False,\n",
              "       False, False, False, False, False, False, False, False, False,\n",
              "       False, False, False, False, False, False, False, False, False,\n",
              "       False, False, False, False, False, False, False, False, False,\n",
              "       False, False, False, False, False, False, False, False, False,\n",
              "       False, False, False, False, False, False, False, False, False,\n",
              "       False, False, False, False, False, False, False, False, False,\n",
              "       False, False, False, False, False, False, False, False, False,\n",
              "       False, False, False, False])"
            ]
          },
          "metadata": {
            "tags": []
          },
          "execution_count": 31
        }
      ]
    },
    {
      "cell_type": "code",
      "metadata": {
        "id": "aBTIt5q5ZGUO",
        "colab_type": "code",
        "colab": {}
      },
      "source": [
        "# build the model: a single LSTM\n",
        "\n",
        "model = Sequential()\n",
        "model.add(LSTM(128, input_shape=(maxlen, len(chars))))\n",
        "model.add(Dense(len(chars), activation='softmax'))\n",
        "\n",
        "model.compile(loss='categorical_crossentropy', optimizer='nadam')"
      ],
      "execution_count": 0,
      "outputs": []
    },
    {
      "cell_type": "code",
      "metadata": {
        "id": "Pn7zT1INZGUR",
        "colab_type": "code",
        "colab": {}
      },
      "source": [
        "def sample(preds):\n",
        "    # helper function to sample an index from a probability array\n",
        "    preds = np.asarray(preds).astype('float64')\n",
        "    preds = np.log(preds) / 1\n",
        "    exp_preds = np.exp(preds)\n",
        "    preds = exp_preds / np.sum(exp_preds)\n",
        "    probas = np.random.multinomial(1, preds, 1)\n",
        "    return np.argmax(probas)"
      ],
      "execution_count": 0,
      "outputs": []
    },
    {
      "cell_type": "code",
      "metadata": {
        "id": "Tm5JIutbZGUU",
        "colab_type": "code",
        "colab": {}
      },
      "source": [
        "def on_epoch_end(epoch, _):\n",
        "    # Function invoked at end of each epoch. Prints generated text.\n",
        "    \n",
        "    print()\n",
        "    print('----- Generating text after Epoch: %d' % epoch)\n",
        "    \n",
        "    start_index = random.randint(0, len(text) - maxlen - 1)\n",
        "    \n",
        "    generated = ''\n",
        "    \n",
        "    sentence = text[start_index: start_index + maxlen]\n",
        "    generated += sentence\n",
        "    \n",
        "    print('----- Generating with seed: \"' + sentence + '\"')\n",
        "    sys.stdout.write(generated)\n",
        "    \n",
        "    for i in range(400):\n",
        "        x_pred = np.zeros((1, maxlen, len(chars)))\n",
        "        for t, char in enumerate(sentence):\n",
        "            x_pred[0, t, char_int[char]] = 1\n",
        "            \n",
        "        preds = model.predict(x_pred, verbose=0)[0]\n",
        "        next_index = sample(preds)\n",
        "        next_char = int_char[next_index]\n",
        "        \n",
        "        sentence = sentence[1:] + next_char\n",
        "        \n",
        "        sys.stdout.write(next_char)\n",
        "        sys.stdout.flush()\n",
        "    print()\n",
        "\n",
        "\n",
        "print_callback = LambdaCallback(on_epoch_end=on_epoch_end)"
      ],
      "execution_count": 0,
      "outputs": []
    },
    {
      "cell_type": "code",
      "metadata": {
        "id": "ts6ZcUgIZGUX",
        "colab_type": "code",
        "outputId": "04d18a3a-43bc-4460-f0ee-e209b5386e2f",
        "colab": {
          "base_uri": "https://localhost:8080/",
          "height": 1000
        }
      },
      "source": [
        "# fit the model\n",
        "\n",
        "model.fit(x, y,\n",
        "          batch_size=256,\n",
        "          epochs=10,\n",
        "          validation_split=.2,\n",
        "          callbacks=[print_callback])"
      ],
      "execution_count": 0,
      "outputs": [
        {
          "output_type": "stream",
          "text": [
            "Epoch 1/10\n",
            "558/558 [==============================] - ETA: 0s - loss: 2.0514\n",
            "----- Generating text after Epoch: 0\n",
            "----- Generating with seed: \"ene. By 4:15 p.m., they said there was “\"\n",
            "ene. By 4:15 p.m., they said there was “Ala suss rolgited on sabdon. Strammad. Thes waling by an the U.S/AS and the ferteres conlais the caid disting in promed ot sho meal on Sorkitica. 15 net changet ralokses for “uloplana ally and hit candly in plicussers, his ores nat mant efripod and Ris os Flone.\n",
            "\n",
            "AD\n",
            "\n",
            "She beanl can ssencres and thus ffery Trripl-Bage Ponst pholusctitide be new endawert.”\n",
            "\n",
            "Af rang.\n",
            "\n",
            "AD\n",
            "\n",
            "Resime in ans Kees, stint. Yo\n",
            "558/558 [==============================] - 23s 42ms/step - loss: 2.0514 - val_loss: 2.0269\n",
            "Epoch 2/10\n",
            "557/558 [============================>.] - ETA: 0s - loss: 2.0281\n",
            "----- Generating text after Epoch: 1\n",
            "----- Generating with seed: \"ats compared to other Trump officials wo\"\n",
            "ats compared to other Trump officials worke sevelyon copne nen reveriming deport ving kenely sextsiage, sumpotham inlly that steter digntent, whe Wullingu a proter ncaidony chown to Subbyingatiana soundabains sought guthen acclugef lewe. I, Ament promits Jassiand and gay aghip to sinw officencus one mationt-ough outidn wave laces, preavents sway hay couft a plays relegrales boely dreatal stisithr. It to Ratia “Plo kord wish awd cay shee\n",
            "558/558 [==============================] - 23s 41ms/step - loss: 2.0282 - val_loss: 2.0170\n",
            "Epoch 3/10\n",
            "557/558 [============================>.] - ETA: 0s - loss: 2.0066\n",
            "----- Generating text after Epoch: 2\n",
            "----- Generating with seed: \"ing, “they can see another way someone l\"\n",
            "ing, “they can see another way someone lifp commity “Smich FOI Coupe Lo On,-re Cantire Ablick.\n",
            "\n",
            "In for was the suised Tarside” Oent rist quyrire for hee haid as ‘fiy a aboughtigction\n",
            "\n",
            "Mizhor in oun 2012 inalaysurany, for quiffbor’s arved Unew Prusalk Jattar hounce, a axrabled lus free owering wank shing male Copwondal PoEfer Prattmancef Unatten, radh of seat eentins an prounita, Trump hecrise and new. The Warke’s proten ho hive out an T\n",
            "558/558 [==============================] - 23s 41ms/step - loss: 2.0067 - val_loss: 2.0129\n",
            "Epoch 4/10\n",
            "555/558 [============================>.] - ETA: 0s - loss: 1.9867\n",
            "----- Generating text after Epoch: 3\n",
            "----- Generating with seed: \"ay arise under the laws of other states,\"\n",
            "ay arise under the laws of other states, in on the uracks the Sigon Con Pasos. N’s nave tranmene lances of tith aldovery to kinishen nisllecucars —ust inderted hat. “Bow For liffes an forted for Sousvaise tom 90. Rod. Elia concervices the dedendray dipuncal use yo the U.ST-pas, Vigstment pIcluss on complays frow Tipper in we censtremations gam 15 in hoppananding thtp condide sobe the preaice us that tith, your’s actelst the prizen,” na'\n",
            "558/558 [==============================] - 23s 41ms/step - loss: 1.9868 - val_loss: 1.9891\n",
            "Epoch 5/10\n",
            "558/558 [==============================] - ETA: 0s - loss: 1.9676\n",
            "----- Generating text after Epoch: 4\n",
            "----- Generating with seed: \"time writing partner, Alfa-Betty Olsen.\n",
            "\"\n",
            "time writing partner, Alfa-Betty Olsen.\n",
            "\n",
            "On — semoking oflowith ale frimpain from ffece haks fine in quiliols out as the !up get in they, whack whack a vides, \"esex the fart doth and heverionenging, medisutication that’y they to teumplight gandataring on Trump to prods share the compy. The emmire. Unrase ‘aWoniturthasas Hole Vullican), weld ingusts, minst in a to leal fiy us offidiol, vident, as doodn hure und ond ratars styed elvadrati\n",
            "558/558 [==============================] - 23s 41ms/step - loss: 1.9676 - val_loss: 1.9767\n",
            "Epoch 6/10\n",
            "556/558 [============================>.] - ETA: 0s - loss: 1.9497\n",
            "----- Generating text after Epoch: 5\n",
            "----- Generating with seed: \"liation of falling to an opponent that p\"\n",
            "liation of falling to an opponent that pamy but purnces. foo eestmoning to deive’s floe morgy purmned blec sone him, her to malk the sivenses are 94 pilling, Mares: Gohains, 1\"dars anse ownoom goth the torged to rime to geanly” of at molly from hom tedm tuokist that neghed the ridquaung the wal basiling few: “preain intrematermas conandis to in. The plosed ad a with lich in Dinctidncms a dace what from tho Zeprigly bugors, int delicille\n",
            "558/558 [==============================] - 23s 41ms/step - loss: 1.9497 - val_loss: 1.9681\n",
            "Epoch 7/10\n",
            "558/558 [==============================] - ETA: 0s - loss: 1.9337\n",
            "----- Generating text after Epoch: 6\n",
            "----- Generating with seed: \"re not the worst team in the NFL, but th\"\n",
            "re not the worst team in the NFL, but that is condice, “I Hacral moning minized plistatios ate , yer ploum ament to yway to it weonn’t de on lict U.S. $000, remocedde. Textakele suan creess wely so variesto.\n",
            "\n",
            "Theind whertend, heudgay cunter work. “He gat he Soulling, it theece is a these stom tho We. [hay camalibs, thrates educh scempanted chat ale of cater.\n",
            "\n",
            "AD\n",
            "\n",
            "“I hised conoviny peopow that of He dose— the praysowe breive that Pompry \n",
            "558/558 [==============================] - 23s 41ms/step - loss: 1.9337 - val_loss: 1.9592\n",
            "Epoch 8/10\n",
            "557/558 [============================>.] - ETA: 0s - loss: 1.9190\n",
            "----- Generating text after Epoch: 7\n",
            "----- Generating with seed: \"de . . .” His illustrations of Petit on \"\n",
            "de . . .” His illustrations of Petit on exrid tranowndels incquat of have to hourc preapsons, of the obreations renaling eej. He able mored gel at hir deould prades hos pot plommess inf worken for the “callear, that haven: The coockent expords sian’s and the ? us in wneverylies anlly semeation to Emazinal — a Gayz laxts the Hasead peed enborgmations. Oon and anto is aberaine of caly dake 10 breeked Collakg Collers picluriptes lake infre\n",
            "558/558 [==============================] - 23s 41ms/step - loss: 1.9188 - val_loss: 1.9449\n",
            "Epoch 9/10\n",
            "556/558 [============================>.] - ETA: 0s - loss: 1.9037\n",
            "----- Generating text after Epoch: 8\n",
            "----- Generating with seed: \"on their Ukraine probe at lightning spee\"\n",
            "on their Ukraine probe at lightning speels, Amir dile them ragly rime the prople, in the having fay un the shook his bat junn Flomisin’s Mill relatines ot Sowntor, stit: he was uec blen prasts to non gaves, wrasiof compand, Truppey (book. may for wooch histpout for nextaminated thit a dmadketh relacury,” pryy bretse a nott of regould stifitate blletcer the may in that af hiu findly. “Ame We Billican angerny, sithinccure that mureverfige\n",
            "558/558 [==============================] - 23s 41ms/step - loss: 1.9034 - val_loss: 1.9392\n",
            "Epoch 10/10\n",
            "555/558 [============================>.] - ETA: 0s - loss: 1.8875\n",
            "----- Generating text after Epoch: 9\n",
            "----- Generating with seed: \"e the right to change subscription fees \"\n",
            "e the right to change subscription fees to poopers parder decoftocrs of T9natmoe Schaict Trump fackial pornebared from Bus “in od uchic of bormuge of ond thet a chatections Jon\n",
            "\n",
            "le should a allotees, puvicatcal contry toud the menocies unntrove in sakieg that ter woupld. Ore impedith in promet of Caren Os’s becabees medend, Ruppunch baling,” phich recinde tres oup andount custling Unnoernstica\n",
            "\n",
            "and-cionecKuatios, on detally who uppanty \n",
            "558/558 [==============================] - 23s 41ms/step - loss: 1.8878 - val_loss: 1.9318\n"
          ],
          "name": "stdout"
        },
        {
          "output_type": "execute_result",
          "data": {
            "text/plain": [
              "<tensorflow.python.keras.callbacks.History at 0x7f1c9b1b8128>"
            ]
          },
          "metadata": {
            "tags": []
          },
          "execution_count": 36
        }
      ]
    },
    {
      "cell_type": "markdown",
      "metadata": {
        "id": "PDn-gf2lZGUd",
        "colab_type": "text"
      },
      "source": [
        "## Challenge\n",
        "\n",
        "You will be expected to use a Keras LSTM to generate text on today's assignment. "
      ]
    },
    {
      "cell_type": "markdown",
      "metadata": {
        "id": "BNYJklw8ZGUe",
        "colab_type": "text"
      },
      "source": [
        "# Review\n",
        "\n",
        "- <a href=\"#p1\">Part 1: </a>Describe Neural Networks used for modeling sequences\n",
        "    * Sequence Problems:\n",
        "        - Time Series (like Stock Prices, Weather, etc.)\n",
        "        - Text Classification\n",
        "        - Text Generation\n",
        "        - And many more! :D\n",
        "    * LSTMs are generally preferred over RNNs for most problems\n",
        "    * LSTMs are typically a single hidden layer of LSTM type; although, other architectures are possible.\n",
        "    * Keras has LSTMs/RNN layer types implemented nicely\n",
        "- <a href=\"#p2\">Part 2: </a>Apply a LSTM to a text generation problem using Keras\n",
        "    * Shape of input data is very important\n",
        "    * Can take a while to train\n",
        "    * You can use it to write movie scripts. :P "
      ]
    }
  ]
}